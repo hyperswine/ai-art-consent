{
 "cells": [
  {
   "cell_type": "code",
   "execution_count": 2,
   "metadata": {},
   "outputs": [
    {
     "name": "stdout",
     "output_type": "stream",
     "text": [
      "Using mps device\n"
     ]
    }
   ],
   "source": [
    "import torch\n",
    "import torch.nn as nn\n",
    "import torch.optim as optim\n",
    "\n",
    "device = torch.device(\"mps\")\n",
    "print(f\"Using {device} device\")"
   ]
  },
  {
   "cell_type": "code",
   "execution_count": 12,
   "metadata": {},
   "outputs": [],
   "source": [
    "# Hyperparameters\n",
    "embed_dim = 64 # 64 x 64 image\n",
    "artist_dim = 16 # 16 possible artists\n",
    "learning_rate = 0.001\n",
    "num_epochs = 10"
   ]
  },
  {
   "cell_type": "code",
   "execution_count": 21,
   "metadata": {},
   "outputs": [],
   "source": [
    "# Generate a 64 x 64 input image\n",
    "input_image = torch.randn(64, 64).to(device)\n",
    "# Generate a artist ID\n",
    "artist_id = torch.zeros(artist_dim).to(device)\n",
    "artist_id[1] = 1"
   ]
  },
  {
   "cell_type": "code",
   "execution_count": 22,
   "metadata": {},
   "outputs": [
    {
     "name": "stdout",
     "output_type": "stream",
     "text": [
      "tensor([[-0.2571,  0.4176,  1.3483,  ...,  1.2452, -1.0990,  0.2285],\n",
      "        [-0.5587,  0.1454,  1.3415,  ..., -0.6198, -0.0612, -0.0505],\n",
      "        [-0.6581, -0.2903,  0.4794,  ...,  0.2166, -0.7249,  1.5415],\n",
      "        ...,\n",
      "        [-0.1051,  0.3541, -0.5174,  ..., -0.1330,  0.6137, -1.6103],\n",
      "        [ 0.5738, -0.4828,  0.4436,  ...,  0.4364,  0.6018, -0.4419],\n",
      "        [-0.2347, -0.8186, -1.5551,  ...,  0.5935,  0.7848, -2.6891]],\n",
      "       device='mps:0')\n",
      "tensor([0., 1., 0., 0., 0., 0., 0., 0., 0., 0., 0., 0., 0., 0., 0., 0.],\n",
      "       device='mps:0')\n"
     ]
    }
   ],
   "source": [
    "input_image.dim()\n",
    "print(input_image)\n",
    "print(artist_id)"
   ]
  },
  {
   "cell_type": "code",
   "execution_count": null,
   "metadata": {},
   "outputs": [],
   "source": []
  },
  {
   "cell_type": "code",
   "execution_count": 10,
   "metadata": {},
   "outputs": [
    {
     "name": "stdout",
     "output_type": "stream",
     "text": [
      "MaxPool2d(kernel_size=3, stride=2, padding=0, dilation=1, ceil_mode=False)\n",
      "4\n",
      "4\n"
     ]
    }
   ],
   "source": [
    "## Testing\n",
    "\n",
    "# pool of square window of size=3, stride=2\n",
    "m = nn.MaxPool2d(3, stride=2)\n",
    "print(m)\n",
    "input_image = torch.randn(1, 3, 64, 64).to(device)\n",
    "print(input_image.dim())\n",
    "output = m(input_image)\n",
    "\n",
    "print(output.dim())"
   ]
  },
  {
   "cell_type": "code",
   "execution_count": null,
   "metadata": {},
   "outputs": [],
   "source": []
  }
 ],
 "metadata": {
  "kernelspec": {
   "display_name": ".venv",
   "language": "python",
   "name": "python3"
  },
  "language_info": {
   "codemirror_mode": {
    "name": "ipython",
    "version": 3
   },
   "file_extension": ".py",
   "mimetype": "text/x-python",
   "name": "python",
   "nbconvert_exporter": "python",
   "pygments_lexer": "ipython3",
   "version": "3.10.8"
  },
  "orig_nbformat": 4
 },
 "nbformat": 4,
 "nbformat_minor": 2
}
