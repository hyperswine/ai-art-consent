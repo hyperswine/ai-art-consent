{
 "cells": [
  {
   "cell_type": "code",
   "execution_count": 1,
   "metadata": {},
   "outputs": [
    {
     "name": "stdout",
     "output_type": "stream",
     "text": [
      "Using mps device\n"
     ]
    }
   ],
   "source": [
    "import torch\n",
    "import torch.nn as nn\n",
    "import torch.optim as optim\n",
    "\n",
    "device = torch.device(\"mps\")\n",
    "print(f\"Using {device} device\")"
   ]
  },
  {
   "cell_type": "code",
   "execution_count": 2,
   "metadata": {},
   "outputs": [],
   "source": [
    "# Hyperparameters\n",
    "embed_dim = 64 # 64 x 64 image\n",
    "artist_dim = 16 # 16 possible artists\n",
    "learning_rate = 0.001\n",
    "num_epochs = 10"
   ]
  },
  {
   "cell_type": "code",
   "execution_count": 3,
   "metadata": {},
   "outputs": [],
   "source": [
    "# Generate a 64 x 64 input image\n",
    "input_image = torch.randn(1, 64, 64).to(device)\n",
    "# Generate a artist ID\n",
    "artist_id = torch.zeros(artist_dim).to(device)\n",
    "artist_id[1] = 1"
   ]
  },
  {
   "cell_type": "code",
   "execution_count": 4,
   "metadata": {},
   "outputs": [
    {
     "name": "stdout",
     "output_type": "stream",
     "text": [
      "tensor([[[ 0.8791, -0.4170,  0.4367,  ...,  1.5764,  0.1596, -0.2268],\n",
      "         [ 0.8000,  2.1211,  0.7472,  ..., -0.4380, -0.0661,  0.7586],\n",
      "         [-0.8151, -0.6690,  0.5545,  ...,  1.6681,  2.2424,  3.5777],\n",
      "         ...,\n",
      "         [-1.2877,  1.0814, -0.6811,  ..., -1.3663,  1.9063,  0.4265],\n",
      "         [-0.7138,  1.5651, -0.2588,  ..., -0.7623, -1.3313,  0.8528],\n",
      "         [-1.1911,  0.3793,  0.4360,  ..., -0.8034, -0.5732,  0.2622]]],\n",
      "       device='mps:0')\n",
      "tensor([0., 1., 0., 0., 0., 0., 0., 0., 0., 0., 0., 0., 0., 0., 0., 0.],\n",
      "       device='mps:0')\n"
     ]
    }
   ],
   "source": [
    "input_image.dim()\n",
    "print(input_image)\n",
    "print(artist_id)"
   ]
  },
  {
   "cell_type": "code",
   "execution_count": 5,
   "metadata": {},
   "outputs": [],
   "source": [
    "class ImageEmbedding(nn.Module):\n",
    "    def __init__(self, embed_dim):\n",
    "        super().__init__()\n",
    "        self.conv = nn.Sequential(\n",
    "            nn.Conv2d(1, embed_dim, 3, padding=1),\n",
    "            nn.ReLU(),\n",
    "            nn.MaxPool2d(2, 2)\n",
    "        )\n",
    "\n",
    "    def forward(self, x):\n",
    "        return self.conv(x)"
   ]
  },
  {
   "cell_type": "code",
   "execution_count": 6,
   "metadata": {},
   "outputs": [
    {
     "name": "stdout",
     "output_type": "stream",
     "text": [
      "ImageEmbedding(\n",
      "  (conv): Sequential(\n",
      "    (0): Conv2d(1, 64, kernel_size=(3, 3), stride=(1, 1), padding=(1, 1))\n",
      "    (1): ReLU()\n",
      "    (2): MaxPool2d(kernel_size=2, stride=2, padding=0, dilation=1, ceil_mode=False)\n",
      "  )\n",
      ")\n",
      "64\n",
      "3\n",
      "tensor([[[2.9150e-01, 3.1017e-01, 7.5294e-01,  ..., 4.4214e-01,\n",
      "          4.8840e-01, 5.5453e-02],\n",
      "         [1.8904e-01, 0.0000e+00, 3.0637e-01,  ..., 2.8130e-01,\n",
      "          3.3281e-01, 6.4625e-01],\n",
      "         [1.8673e-01, 3.6913e-01, 9.0881e-01,  ..., 2.7862e-01,\n",
      "          0.0000e+00, 4.6233e-01],\n",
      "         ...,\n",
      "         [2.3606e-01, 7.6784e-01, 0.0000e+00,  ..., 1.0417e+00,\n",
      "          1.8969e+00, 5.7396e-01],\n",
      "         [3.4005e-02, 3.7618e-01, 1.2480e+00,  ..., 2.3852e-01,\n",
      "          2.1087e-01, 0.0000e+00],\n",
      "         [0.0000e+00, 5.1832e-01, 1.1842e+00,  ..., 1.1882e+00,\n",
      "          8.1199e-01, 0.0000e+00]],\n",
      "\n",
      "        [[4.3713e-01, 1.8483e-01, 0.0000e+00,  ..., 9.7127e-01,\n",
      "          8.0660e-01, 6.2276e-01],\n",
      "         [2.0018e-01, 0.0000e+00, 1.3432e+00,  ..., 6.3587e-01,\n",
      "          1.5870e-01, 1.4496e+00],\n",
      "         [7.7322e-01, 0.0000e+00, 8.9311e-01,  ..., 2.6344e-02,\n",
      "          2.3844e-01, 0.0000e+00],\n",
      "         ...,\n",
      "         [8.6418e-01, 0.0000e+00, 6.6070e-01,  ..., 0.0000e+00,\n",
      "          4.1275e-01, 4.2143e-01],\n",
      "         [5.3439e-01, 0.0000e+00, 5.0175e-01,  ..., 2.9464e-01,\n",
      "          2.3632e-01, 5.3363e-01],\n",
      "         [6.9547e-01, 0.0000e+00, 7.7513e-01,  ..., 3.9883e-01,\n",
      "          0.0000e+00, 2.5039e-01]],\n",
      "\n",
      "        [[4.7559e-01, 3.6335e-01, 8.8770e-01,  ..., 7.0775e-04,\n",
      "          0.0000e+00, 3.7064e-02],\n",
      "         [4.9914e-01, 8.0653e-01, 4.1298e-01,  ..., 1.6218e-01,\n",
      "          6.3015e-01, 8.8017e-01],\n",
      "         [5.8331e-01, 2.4931e-02, 1.0544e+00,  ..., 4.7354e-01,\n",
      "          2.8939e-01, 0.0000e+00],\n",
      "         ...,\n",
      "         [1.6180e-03, 5.4696e-02, 0.0000e+00,  ..., 6.0774e-01,\n",
      "          6.9371e-01, 6.7883e-01],\n",
      "         [6.0999e-01, 2.6790e-01, 3.9068e-01,  ..., 1.6014e-01,\n",
      "          2.1226e-01, 1.7699e-01],\n",
      "         [3.0417e-01, 3.1517e-01, 6.9783e-01,  ..., 9.8722e-01,\n",
      "          4.4504e-01, 5.7283e-01]],\n",
      "\n",
      "        ...,\n",
      "\n",
      "        [[1.0154e+00, 1.1587e+00, 1.6635e-01,  ..., 6.3572e-01,\n",
      "          8.0100e-01, 1.3286e+00],\n",
      "         [4.0553e-01, 7.7593e-01, 1.0252e+00,  ..., 1.3518e+00,\n",
      "          3.0481e-01, 1.5989e+00],\n",
      "         [7.9048e-01, 6.9905e-01, 6.9170e-01,  ..., 4.5883e-01,\n",
      "          2.7232e-01, 3.9333e-01],\n",
      "         ...,\n",
      "         [1.3798e+00, 7.0413e-01, 1.4186e+00,  ..., 9.1265e-01,\n",
      "          8.1709e-01, 7.9370e-01],\n",
      "         [0.0000e+00, 8.2038e-01, 1.3546e+00,  ..., 1.6280e+00,\n",
      "          9.9243e-01, 7.8653e-01],\n",
      "         [6.8828e-01, 6.6134e-01, 8.8651e-01,  ..., 8.0357e-01,\n",
      "          7.6530e-01, 1.8340e-01]],\n",
      "\n",
      "        [[0.0000e+00, 4.2323e-01, 7.6199e-01,  ..., 0.0000e+00,\n",
      "          0.0000e+00, 5.0252e-01],\n",
      "         [3.6709e-01, 0.0000e+00, 7.8374e-01,  ..., 0.0000e+00,\n",
      "          4.1868e-01, 9.0503e-02],\n",
      "         [3.7269e-01, 0.0000e+00, 9.5114e-02,  ..., 0.0000e+00,\n",
      "          0.0000e+00, 7.4729e-01],\n",
      "         ...,\n",
      "         [0.0000e+00, 1.6298e+00, 4.3260e-01,  ..., 4.7430e-01,\n",
      "          1.0963e+00, 0.0000e+00],\n",
      "         [1.0763e+00, 0.0000e+00, 1.2899e+00,  ..., 2.7643e-01,\n",
      "          1.0205e+00, 2.1344e-02],\n",
      "         [1.6045e-01, 3.9897e-01, 5.6305e-02,  ..., 5.2553e-01,\n",
      "          5.9129e-01, 4.7417e-01]],\n",
      "\n",
      "        [[3.1666e-01, 0.0000e+00, 4.9080e-01,  ..., 2.4470e-01,\n",
      "          7.1743e-01, 8.4492e-01],\n",
      "         [3.1648e-01, 0.0000e+00, 1.0974e+00,  ..., 0.0000e+00,\n",
      "          0.0000e+00, 3.9804e-01],\n",
      "         [3.9566e-01, 4.8137e-01, 9.9404e-01,  ..., 0.0000e+00,\n",
      "          5.8331e-01, 0.0000e+00],\n",
      "         ...,\n",
      "         [2.8919e-01, 0.0000e+00, 1.0975e+00,  ..., 0.0000e+00,\n",
      "          7.2335e-01, 0.0000e+00],\n",
      "         [4.1480e-01, 5.2906e-01, 9.0364e-01,  ..., 1.4676e-02,\n",
      "          1.9851e-01, 6.7703e-01],\n",
      "         [1.3945e-01, 0.0000e+00, 1.8743e-01,  ..., 1.1199e-01,\n",
      "          0.0000e+00, 1.8776e-01]]], device='mps:0',\n",
      "       grad_fn=<MaxPool2DBackward0>)\n"
     ]
    }
   ],
   "source": [
    "m = ImageEmbedding(embed_dim).to(device)\n",
    "print(m)\n",
    "\n",
    "res = m(input_image)\n",
    "\n",
    "print(len(res))\n",
    "print(res.dim())\n",
    "print(res)"
   ]
  },
  {
   "cell_type": "code",
   "execution_count": 7,
   "metadata": {},
   "outputs": [],
   "source": [
    "model = nn.Sequential(\n",
    "            nn.Linear(embed_dim, 256),\n",
    "            nn.ReLU(),\n",
    "            nn.Linear(256, artist_dim),\n",
    "            nn.ReLU()\n",
    "        ).to(device)"
   ]
  },
  {
   "cell_type": "code",
   "execution_count": 16,
   "metadata": {},
   "outputs": [
    {
     "name": "stdout",
     "output_type": "stream",
     "text": [
      "res = tensor([[[0.4699, 0.0000, 0.0000,  ..., 0.1925, 0.0000, 0.0000],\n",
      "         [0.0000, 0.0000, 0.0000,  ..., 0.0000, 0.0254, 0.0000],\n",
      "         [0.3879, 0.0000, 0.0000,  ..., 0.1631, 0.0377, 0.0000],\n",
      "         ...,\n",
      "         [0.0000, 0.0000, 0.0000,  ..., 0.2277, 0.3010, 0.0000],\n",
      "         [0.0000, 0.0000, 0.0684,  ..., 0.3161, 0.0000, 0.0000],\n",
      "         [0.1831, 0.0000, 0.0000,  ..., 0.0000, 0.2664, 0.0000]]],\n",
      "       device='mps:0', grad_fn=<ReluBackward0>)\n",
      "3\n",
      "1 64 16\n",
      "tensor(807, device='mps:0')\n"
     ]
    }
   ],
   "source": [
    "res = model(input_image)\n",
    "print(\"res =\", res)\n",
    "print(res.dim())\n",
    "print(len(res), len(res[0]), len(res[0][0]))\n",
    "\n",
    "# get max\n",
    "max = res.argmax()\n",
    "print(max)"
   ]
  },
  {
   "cell_type": "code",
   "execution_count": null,
   "metadata": {},
   "outputs": [],
   "source": [
    "## Testing\n",
    "\n",
    "# pool of square window of size=3, stride=2\n",
    "m = nn.MaxPool2d(3, stride=2)\n",
    "print(m)\n",
    "input_image = torch.randn(1, 3, 64, 64).to(device)\n",
    "print(input_image.dim())\n",
    "output = m(input_image)\n",
    "\n",
    "print(output.dim())"
   ]
  },
  {
   "cell_type": "code",
   "execution_count": null,
   "metadata": {},
   "outputs": [],
   "source": []
  }
 ],
 "metadata": {
  "kernelspec": {
   "display_name": ".venv",
   "language": "python",
   "name": "python3"
  },
  "language_info": {
   "codemirror_mode": {
    "name": "ipython",
    "version": 3
   },
   "file_extension": ".py",
   "mimetype": "text/x-python",
   "name": "python",
   "nbconvert_exporter": "python",
   "pygments_lexer": "ipython3",
   "version": "3.10.8"
  },
  "orig_nbformat": 4
 },
 "nbformat": 4,
 "nbformat_minor": 2
}
