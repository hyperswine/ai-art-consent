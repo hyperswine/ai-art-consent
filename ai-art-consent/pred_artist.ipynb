{
 "cells": [
  {
   "cell_type": "code",
   "execution_count": 3,
   "metadata": {},
   "outputs": [
    {
     "name": "stdout",
     "output_type": "stream",
     "text": [
      "Using mps device\n"
     ]
    }
   ],
   "source": [
    "import torch\n",
    "import torch.nn as nn\n",
    "import torch.optim as optim\n",
    "\n",
    "device = torch.device(\"mps\")\n",
    "print(f\"Using {device} device\")"
   ]
  },
  {
   "cell_type": "code",
   "execution_count": 4,
   "metadata": {},
   "outputs": [],
   "source": [
    "# Hyperparameters\n",
    "embed_dim = 64 # 64 x 64 image\n",
    "artist_dim = 16 # 16 possible artists\n",
    "learning_rate = 0.001\n",
    "num_epochs = 10"
   ]
  },
  {
   "cell_type": "code",
   "execution_count": 5,
   "metadata": {},
   "outputs": [],
   "source": [
    "# Generate a 64 x 64 input image\n",
    "input_image = torch.randn(1, 64, 64).to(device)\n",
    "# Generate a artist ID\n",
    "artist_id = torch.zeros(artist_dim).to(device)\n",
    "artist_id[1] = 1"
   ]
  },
  {
   "cell_type": "code",
   "execution_count": 6,
   "metadata": {},
   "outputs": [
    {
     "name": "stdout",
     "output_type": "stream",
     "text": [
      "tensor([[[ 0.2517, -1.2288, -1.7048,  ...,  0.1768, -0.2774, -0.4109],\n",
      "         [ 0.2052,  0.9750, -0.4243,  ...,  0.4532,  0.8703,  1.2603],\n",
      "         [ 0.9839,  0.3851, -0.6078,  ..., -1.6633, -0.0301, -1.1787],\n",
      "         ...,\n",
      "         [-1.4937, -1.2528,  0.0419,  ...,  0.9036,  0.0149, -0.3086],\n",
      "         [ 0.4303, -1.9189,  0.3784,  ..., -0.6111,  0.0541,  1.7902],\n",
      "         [-0.6429, -0.8082,  0.2575,  ..., -2.5848, -1.4193,  0.1057]]],\n",
      "       device='mps:0')\n",
      "tensor([0., 1., 0., 0., 0., 0., 0., 0., 0., 0., 0., 0., 0., 0., 0., 0.],\n",
      "       device='mps:0')\n"
     ]
    }
   ],
   "source": [
    "input_image.dim()\n",
    "print(input_image)\n",
    "print(artist_id)"
   ]
  },
  {
   "cell_type": "code",
   "execution_count": 7,
   "metadata": {},
   "outputs": [],
   "source": [
    "class ImageEmbedding(nn.Module):\n",
    "    def __init__(self, embed_dim):\n",
    "        super().__init__()\n",
    "        self.conv = nn.Sequential(\n",
    "            nn.Conv2d(1, embed_dim, 3, padding=1),\n",
    "            nn.ReLU(),\n",
    "            nn.MaxPool2d(2, 2)\n",
    "        )\n",
    "\n",
    "    def forward(self, x):\n",
    "        return self.conv(x)\n"
   ]
  },
  {
   "cell_type": "code",
   "execution_count": 8,
   "metadata": {},
   "outputs": [
    {
     "name": "stdout",
     "output_type": "stream",
     "text": [
      "ImageEmbedding(\n",
      "  (conv): Sequential(\n",
      "    (0): Conv2d(1, 64, kernel_size=(3, 3), stride=(1, 1), padding=(1, 1))\n",
      "    (1): ReLU()\n",
      "    (2): MaxPool2d(kernel_size=2, stride=2, padding=0, dilation=1, ceil_mode=False)\n",
      "  )\n",
      ")\n",
      "64\n",
      "3\n",
      "tensor([[[0.5449, 0.9756, 0.8772,  ..., 0.3411, 0.2852, 0.3611],\n",
      "         [0.2681, 0.5675, 0.5638,  ..., 0.6870, 0.2934, 1.1321],\n",
      "         [0.9072, 1.0035, 0.5946,  ..., 0.6802, 0.4653, 0.4922],\n",
      "         ...,\n",
      "         [0.8770, 0.4631, 0.9029,  ..., 0.6145, 0.5975, 0.5756],\n",
      "         [0.6803, 1.3046, 0.3726,  ..., 0.7545, 0.2217, 0.3648],\n",
      "         [0.5720, 0.7174, 0.7419,  ..., 0.8516, 0.5946, 1.2944]],\n",
      "\n",
      "        [[0.5184, 0.0000, 0.9926,  ..., 0.5968, 0.3924, 0.4255],\n",
      "         [0.4555, 0.5844, 2.0218,  ..., 0.2160, 1.2917, 0.2613],\n",
      "         [1.5109, 0.2495, 0.2419,  ..., 0.0000, 0.9158, 0.2969],\n",
      "         ...,\n",
      "         [0.1404, 0.1925, 0.0033,  ..., 1.6884, 0.8359, 0.8336],\n",
      "         [0.5497, 0.6573, 1.0921,  ..., 0.0719, 1.2262, 0.9499],\n",
      "         [0.3351, 0.9041, 0.6119,  ..., 0.2315, 1.0422, 0.4759]],\n",
      "\n",
      "        [[0.0890, 0.3678, 0.3668,  ..., 0.3344, 0.8038, 0.2593],\n",
      "         [0.4405, 1.0798, 1.4002,  ..., 0.5881, 0.9556, 0.8619],\n",
      "         [1.3264, 0.5362, 0.6957,  ..., 0.0000, 0.7064, 0.5690],\n",
      "         ...,\n",
      "         [0.8739, 0.4893, 0.1218,  ..., 1.0952, 0.1670, 0.8009],\n",
      "         [1.2566, 0.7821, 0.6010,  ..., 0.1017, 0.8290, 0.3253],\n",
      "         [0.4085, 0.2355, 0.7285,  ..., 0.6704, 1.1760, 0.8645]],\n",
      "\n",
      "        ...,\n",
      "\n",
      "        [[0.9175, 1.2609, 1.1410,  ..., 0.0000, 0.0319, 0.3178],\n",
      "         [0.0000, 0.2788, 0.2277,  ..., 0.4272, 0.2691, 0.8989],\n",
      "         [0.5297, 0.7463, 0.4039,  ..., 0.4173, 0.2769, 0.5190],\n",
      "         ...,\n",
      "         [0.8872, 0.9073, 1.1878,  ..., 0.0000, 0.4424, 0.6229],\n",
      "         [1.0213, 0.3455, 0.6555,  ..., 0.7226, 0.0000, 0.2904],\n",
      "         [0.8105, 0.7062, 0.2238,  ..., 0.6543, 0.8953, 1.1130]],\n",
      "\n",
      "        [[0.3713, 1.0553, 0.2200,  ..., 0.1276, 0.0000, 0.3280],\n",
      "         [0.0000, 0.5892, 0.3474,  ..., 0.4804, 0.0677, 0.0000],\n",
      "         [0.1344, 0.0000, 0.4030,  ..., 0.2145, 0.7323, 0.0732],\n",
      "         ...,\n",
      "         [0.3078, 0.9242, 0.7449,  ..., 0.8663, 0.0000, 0.0087],\n",
      "         [0.7140, 0.5579, 0.1440,  ..., 0.6058, 0.0000, 0.1472],\n",
      "         [0.3274, 0.1554, 0.8513,  ..., 0.4324, 0.0000, 0.8949]],\n",
      "\n",
      "        [[0.5163, 1.2570, 1.3956,  ..., 0.2165, 0.4743, 0.5401],\n",
      "         [0.2337, 0.8663, 0.4138,  ..., 0.4352, 0.0972, 0.8726],\n",
      "         [0.6720, 0.3983, 0.2846,  ..., 0.4862, 0.4781, 1.0243],\n",
      "         ...,\n",
      "         [2.1011, 0.8849, 1.2096,  ..., 0.5053, 0.7210, 0.9958],\n",
      "         [1.1486, 0.1855, 1.2957,  ..., 1.2274, 0.2235, 0.6191],\n",
      "         [0.7432, 0.4130, 0.9632,  ..., 0.5951, 0.3915, 0.8199]]],\n",
      "       device='mps:0', grad_fn=<MaxPool2DBackward0>)\n"
     ]
    }
   ],
   "source": [
    "m = ImageEmbedding(embed_dim).to(device)\n",
    "print(m)\n",
    "\n",
    "res = m(input_image)\n",
    "\n",
    "print(len(res))\n",
    "print(res.dim())\n",
    "print(res)\n"
   ]
  },
  {
   "cell_type": "code",
   "execution_count": 9,
   "metadata": {},
   "outputs": [],
   "source": [
    "model = nn.Sequential(\n",
    "    nn.Linear(embed_dim, 256),\n",
    "    nn.ReLU(),\n",
    "    nn.Linear(256, artist_dim),\n",
    "    nn.ReLU()\n",
    ").to(device)\n"
   ]
  },
  {
   "cell_type": "code",
   "execution_count": 10,
   "metadata": {},
   "outputs": [
    {
     "name": "stdout",
     "output_type": "stream",
     "text": [
      "res = tensor([[[0.0139, 0.4442, 0.1653,  ..., 0.0000, 0.3983, 0.0000],\n",
      "         [0.1846, 0.0740, 0.4065,  ..., 0.0669, 0.1329, 0.0848],\n",
      "         [0.4377, 0.0999, 0.0000,  ..., 0.0330, 0.0891, 0.4632],\n",
      "         ...,\n",
      "         [0.0438, 0.1077, 0.2411,  ..., 0.0000, 0.4372, 0.0185],\n",
      "         [0.0000, 0.0000, 0.1918,  ..., 0.3044, 0.0367, 0.1270],\n",
      "         [0.2751, 0.0500, 0.3544,  ..., 0.0000, 0.0000, 0.0439]]],\n",
      "       device='mps:0', grad_fn=<ReluBackward0>)\n",
      "3\n",
      "1 64 16\n",
      "tensor(35, device='mps:0')\n"
     ]
    }
   ],
   "source": [
    "res = model(input_image)\n",
    "print(\"res =\", res)\n",
    "print(res.dim())\n",
    "print(len(res), len(res[0]), len(res[0][0]))\n",
    "\n",
    "# get max\n",
    "max = res.argmax()\n",
    "print(max)"
   ]
  },
  {
   "cell_type": "code",
   "execution_count": 13,
   "metadata": {},
   "outputs": [
    {
     "data": {
      "text/plain": [
       "tensor([0.4539, 0.0000, 0.0000, 0.0876, 0.0000, 0.0000, 0.0925, 0.1116, 0.0000,\n",
       "        0.0000, 0.0000, 0.2526, 0.1111, 0.1165, 0.2321, 0.0241],\n",
       "       device='mps:0', grad_fn=<SelectBackward0>)"
      ]
     },
     "execution_count": 13,
     "metadata": {},
     "output_type": "execute_result"
    }
   ],
   "source": [
    "res[0][35]"
   ]
  },
  {
   "cell_type": "code",
   "execution_count": null,
   "metadata": {},
   "outputs": [],
   "source": [
    "## Testing\n",
    "\n",
    "# pool of square window of size=3, stride=2\n",
    "m = nn.MaxPool2d(3, stride=2)\n",
    "print(m)\n",
    "input_image = torch.randn(1, 3, 64, 64).to(device)\n",
    "print(input_image.dim())\n",
    "output = m(input_image)\n",
    "\n",
    "print(output.dim())"
   ]
  },
  {
   "cell_type": "code",
   "execution_count": null,
   "metadata": {},
   "outputs": [],
   "source": []
  }
 ],
 "metadata": {
  "kernelspec": {
   "display_name": ".venv",
   "language": "python",
   "name": "python3"
  },
  "language_info": {
   "codemirror_mode": {
    "name": "ipython",
    "version": 3
   },
   "file_extension": ".py",
   "mimetype": "text/x-python",
   "name": "python",
   "nbconvert_exporter": "python",
   "pygments_lexer": "ipython3",
   "version": "3.10.8"
  },
  "orig_nbformat": 4
 },
 "nbformat": 4,
 "nbformat_minor": 2
}
