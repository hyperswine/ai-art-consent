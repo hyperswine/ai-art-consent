{
 "cells": [
  {
   "cell_type": "code",
   "execution_count": 1,
   "metadata": {},
   "outputs": [
    {
     "name": "stdout",
     "output_type": "stream",
     "text": [
      "Using mps device\n"
     ]
    }
   ],
   "source": [
    "import torch\n",
    "import torch.nn as nn\n",
    "import torch.optim as optim\n",
    "\n",
    "device = torch.device(\"mps\")\n",
    "print(f\"Using {device} device\")"
   ]
  },
  {
   "cell_type": "code",
   "execution_count": 2,
   "metadata": {},
   "outputs": [],
   "source": [
    "class ImageEmbedding(nn.Module):\n",
    "    def __init__(self, input_channels, embed_dim):\n",
    "        super().__init__()\n",
    "        self.conv = nn.Sequential(\n",
    "            nn.Conv2d(input_channels, embed_dim, 3, padding=1),\n",
    "            nn.ReLU(),\n",
    "            nn.MaxPool2d(2, 2)\n",
    "        )\n",
    "\n",
    "    def forward(self, x):\n",
    "        return self.conv(x)"
   ]
  },
  {
   "cell_type": "code",
   "execution_count": 3,
   "metadata": {},
   "outputs": [],
   "source": [
    "class MiniStableDiffusion(nn.Module):\n",
    "    def __init__(self, embed_dim, artist_dim):\n",
    "        super().__init__()\n",
    "        self.embedding = ImageEmbedding(3, embed_dim)\n",
    "        self.fc1 = nn.Linear(embed_dim + artist_dim, 256)\n",
    "        self.fc2 = nn.Linear(256, embed_dim)\n",
    "\n",
    "    def forward(self, x, artist_id):\n",
    "        x_embed = self.embedding(x)\n",
    "        print(x_embed.size())\n",
    "\n",
    "        x_flatten = x_embed.view(x_embed.size(0), -1)\n",
    "        x_concat = torch.cat((x_flatten, artist_id), dim=1)\n",
    "        x_fc1 = torch.relu(self.fc1(x_concat))\n",
    "        x_out = self.fc2(x_fc1)\n",
    "\n",
    "        return x_out"
   ]
  },
  {
   "cell_type": "code",
   "execution_count": null,
   "metadata": {},
   "outputs": [],
   "source": [
    "# Hyperparameters\n",
    "embed_dim = 64\n",
    "artist_dim = 16\n",
    "learning_rate = 0.001\n",
    "num_epochs = 10\n",
    "# Initialize the model, loss function and optimizer\n",
    "model = MiniStableDiffusion(embed_dim, artist_dim).to(device)\n",
    "criterion = nn.MSELoss()\n",
    "optimizer = optim.Adam(model.parameters(), lr=learning_rate)\n",
    "# Dummy input image and artist ID\n",
    "input_image = torch.randn(1, 3, 64, 64).to(device)\n",
    "artist_id = torch.randn(1, artist_dim).to(device)\n",
    "# Training loop\n",
    "for epoch in range(num_epochs):\n",
    "    optimizer.zero_grad()\n",
    "    output = model(input_image, artist_id)\n",
    "    loss = criterion(output, input_image.view(input_image.size(0), -1))\n",
    "    loss.backward()\n",
    "    optimizer.step()\n",
    "    print(f'Epoch: {epoch+1}, Loss: {loss.item()}')\n",
    "# Generate output image and list of contributing artist IDs\n",
    "output_image = model(input_image, artist_id)\n",
    "contributing_artists = [artist_id]\n",
    "# Print it\n",
    "print(output_image)\n",
    "print(contributing_artists)"
   ]
  }
 ],
 "metadata": {
  "kernelspec": {
   "display_name": ".venv",
   "language": "python",
   "name": "python3"
  },
  "language_info": {
   "codemirror_mode": {
    "name": "ipython",
    "version": 3
   },
   "file_extension": ".py",
   "mimetype": "text/x-python",
   "name": "python",
   "nbconvert_exporter": "python",
   "pygments_lexer": "ipython3",
   "version": "3.10.8"
  },
  "orig_nbformat": 4
 },
 "nbformat": 4,
 "nbformat_minor": 2
}
