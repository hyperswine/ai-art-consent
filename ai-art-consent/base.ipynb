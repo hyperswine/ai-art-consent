{
 "cells": [
  {
   "cell_type": "code",
   "execution_count": 1,
   "metadata": {},
   "outputs": [
    {
     "name": "stdout",
     "output_type": "stream",
     "text": [
      "Using mps device\n"
     ]
    }
   ],
   "source": [
    "import torch\n",
    "import torch.nn as nn\n",
    "import torch.optim as optim\n",
    "\n",
    "device = torch.device(\"mps\")\n",
    "print(f\"Using {device} device\")"
   ]
  },
  {
   "cell_type": "code",
   "execution_count": 11,
   "metadata": {},
   "outputs": [],
   "source": [
    "class ImageEmbedding(nn.Module):\n",
    "    def __init__(self, input_channels, embed_dim):\n",
    "        super().__init__()\n",
    "        self.conv = nn.Sequential(\n",
    "            nn.Conv2d(input_channels, embed_dim, 3, padding=1),\n",
    "            nn.ReLU(),\n",
    "            nn.MaxPool2d(2, 2)\n",
    "        )\n",
    "\n",
    "    def forward(self, x):\n",
    "        return self.conv(x)"
   ]
  },
  {
   "cell_type": "code",
   "execution_count": 20,
   "metadata": {},
   "outputs": [],
   "source": [
    "class MiniStableDiffusion(nn.Module):\n",
    "    def __init__(self, embed_dim, artist_dim):\n",
    "        super().__init__()\n",
    "        self.embedding = ImageEmbedding(3, embed_dim)\n",
    "        self.model = nn.Sequential(\n",
    "            nn.Linear(embed_dim + artist_dim, 256),\n",
    "            nn.Linear(256, embed_dim + artist_dim)\n",
    "        )\n",
    "\n",
    "    def forward(self, input_image, artist_id):\n",
    "        embed = self.embedding(input_image)\n",
    "        return self.model(embed + artist_id)"
   ]
  },
  {
   "cell_type": "code",
   "execution_count": 13,
   "metadata": {},
   "outputs": [],
   "source": [
    "# Hyperparameters\n",
    "embed_dim = 64 # 64 x 64 image\n",
    "artist_dim = 16 # 16 possible artists\n",
    "learning_rate = 0.001\n",
    "num_epochs = 10"
   ]
  },
  {
   "cell_type": "code",
   "execution_count": 23,
   "metadata": {},
   "outputs": [],
   "source": [
    "# Initialize the model, loss function and optimizer\n",
    "model = MiniStableDiffusion(embed_dim, artist_dim).to(device)\n",
    "criterion = nn.MSELoss()\n",
    "optimizer = optim.Adam(model.parameters(), lr=learning_rate)"
   ]
  },
  {
   "cell_type": "code",
   "execution_count": 24,
   "metadata": {},
   "outputs": [
    {
     "name": "stdout",
     "output_type": "stream",
     "text": [
      "tensor([[[[ 0.0382, -1.0326,  1.6651,  ...,  0.4060,  1.3885,  1.5412],\n",
      "          [ 0.0368,  0.1334,  0.4681,  ...,  1.0872,  1.2975,  0.6330],\n",
      "          [ 1.3485,  0.4951, -0.8267,  ..., -0.2671, -0.6901, -0.6826],\n",
      "          ...,\n",
      "          [ 1.6119, -0.1807,  0.3658,  ...,  0.1559,  1.1326, -1.2212],\n",
      "          [ 1.0478,  0.1940,  1.0301,  ...,  0.6800,  1.7220, -0.5570],\n",
      "          [ 0.1039,  0.5230,  0.5104,  ...,  1.0293,  0.5324, -0.8728]],\n",
      "\n",
      "         [[ 0.2333,  0.3853, -0.5016,  ..., -0.0856,  0.8257, -0.0045],\n",
      "          [ 1.2666, -0.3176,  0.2978,  ..., -0.6036,  0.2281, -0.3135],\n",
      "          [-1.4242, -0.3590,  0.5917,  ...,  0.2864,  0.8542, -0.4944],\n",
      "          ...,\n",
      "          [-0.9287, -0.3396, -0.5429,  ...,  0.7194, -0.3461,  0.8573],\n",
      "          [-0.6420,  0.5528,  0.3257,  ...,  1.0379,  1.5631,  0.2282],\n",
      "          [ 1.5854, -0.2417,  1.3674,  ...,  1.6776,  0.1210,  0.6292]],\n",
      "\n",
      "         [[-0.4042, -1.8183, -0.3230,  ...,  1.6800,  1.5950, -0.0246],\n",
      "          [ 0.6559, -0.6064, -0.7205,  ..., -0.1917,  0.1355, -0.4943],\n",
      "          [ 1.2959,  0.6559,  0.2391,  ...,  0.8257,  0.2411, -1.6359],\n",
      "          ...,\n",
      "          [-0.8162,  1.5789, -0.0741,  ..., -1.3452,  0.6375,  0.0652],\n",
      "          [-1.2943,  0.3410,  0.6096,  ...,  0.8837, -0.3541,  1.8107],\n",
      "          [ 0.2970,  0.3675, -0.3388,  ...,  3.5773,  0.0539, -1.4478]]]],\n",
      "       device='mps:0')\n",
      "tensor([[-1.5838, -0.9218,  1.5973, -1.0112, -0.7091, -0.1638, -0.6694, -0.1849,\n",
      "          0.1747, -1.4174, -0.4950, -1.0852, -2.2041, -0.3142, -0.5367, -1.4227]],\n",
      "       device='mps:0')\n"
     ]
    }
   ],
   "source": [
    "# Generate a 64 x 64 input image\n",
    "input_image = torch.randn(1, 3, 64, 64).to(device)\n",
    "# Generate a artist ID\n",
    "artist_id = torch.randn(1, artist_dim).to(device)\n",
    "\n",
    "print(input_image)\n",
    "print(artist_id)"
   ]
  },
  {
   "cell_type": "code",
   "execution_count": 25,
   "metadata": {},
   "outputs": [
    {
     "ename": "RuntimeError",
     "evalue": "The size of tensor a (32) must match the size of tensor b (16) at non-singleton dimension 3",
     "output_type": "error",
     "traceback": [
      "\u001b[0;31m---------------------------------------------------------------------------\u001b[0m",
      "\u001b[0;31mRuntimeError\u001b[0m                              Traceback (most recent call last)",
      "Cell \u001b[0;32mIn[25], line 3\u001b[0m\n\u001b[1;32m      1\u001b[0m \u001b[39mfor\u001b[39;00m epoch \u001b[39min\u001b[39;00m \u001b[39mrange\u001b[39m(num_epochs):\n\u001b[1;32m      2\u001b[0m     optimizer\u001b[39m.\u001b[39mzero_grad()\n\u001b[0;32m----> 3\u001b[0m     output \u001b[39m=\u001b[39m model(input_image, artist_id)\n\u001b[1;32m      4\u001b[0m     loss \u001b[39m=\u001b[39m criterion(output, input_image\u001b[39m.\u001b[39mview(input_image\u001b[39m.\u001b[39msize(\u001b[39m0\u001b[39m), \u001b[39m-\u001b[39m\u001b[39m1\u001b[39m))\n\u001b[1;32m      5\u001b[0m     loss\u001b[39m.\u001b[39mbackward()\n",
      "File \u001b[0;32m~/Documents/GitHub/ai-art-consent/.venv/lib/python3.10/site-packages/torch/nn/modules/module.py:1501\u001b[0m, in \u001b[0;36mModule._call_impl\u001b[0;34m(self, *args, **kwargs)\u001b[0m\n\u001b[1;32m   1496\u001b[0m \u001b[39m# If we don't have any hooks, we want to skip the rest of the logic in\u001b[39;00m\n\u001b[1;32m   1497\u001b[0m \u001b[39m# this function, and just call forward.\u001b[39;00m\n\u001b[1;32m   1498\u001b[0m \u001b[39mif\u001b[39;00m \u001b[39mnot\u001b[39;00m (\u001b[39mself\u001b[39m\u001b[39m.\u001b[39m_backward_hooks \u001b[39mor\u001b[39;00m \u001b[39mself\u001b[39m\u001b[39m.\u001b[39m_backward_pre_hooks \u001b[39mor\u001b[39;00m \u001b[39mself\u001b[39m\u001b[39m.\u001b[39m_forward_hooks \u001b[39mor\u001b[39;00m \u001b[39mself\u001b[39m\u001b[39m.\u001b[39m_forward_pre_hooks\n\u001b[1;32m   1499\u001b[0m         \u001b[39mor\u001b[39;00m _global_backward_pre_hooks \u001b[39mor\u001b[39;00m _global_backward_hooks\n\u001b[1;32m   1500\u001b[0m         \u001b[39mor\u001b[39;00m _global_forward_hooks \u001b[39mor\u001b[39;00m _global_forward_pre_hooks):\n\u001b[0;32m-> 1501\u001b[0m     \u001b[39mreturn\u001b[39;00m forward_call(\u001b[39m*\u001b[39;49margs, \u001b[39m*\u001b[39;49m\u001b[39m*\u001b[39;49mkwargs)\n\u001b[1;32m   1502\u001b[0m \u001b[39m# Do not call functions when jit is used\u001b[39;00m\n\u001b[1;32m   1503\u001b[0m full_backward_hooks, non_full_backward_hooks \u001b[39m=\u001b[39m [], []\n",
      "Cell \u001b[0;32mIn[20], line 12\u001b[0m, in \u001b[0;36mMiniStableDiffusion.forward\u001b[0;34m(self, input_image, artist_id)\u001b[0m\n\u001b[1;32m     10\u001b[0m \u001b[39mdef\u001b[39;00m \u001b[39mforward\u001b[39m(\u001b[39mself\u001b[39m, input_image, artist_id):\n\u001b[1;32m     11\u001b[0m     embed \u001b[39m=\u001b[39m \u001b[39mself\u001b[39m\u001b[39m.\u001b[39membedding(input_image)\n\u001b[0;32m---> 12\u001b[0m     \u001b[39mreturn\u001b[39;00m \u001b[39mself\u001b[39m\u001b[39m.\u001b[39mmodel(embed \u001b[39m+\u001b[39;49m artist_id)\n",
      "\u001b[0;31mRuntimeError\u001b[0m: The size of tensor a (32) must match the size of tensor b (16) at non-singleton dimension 3"
     ]
    }
   ],
   "source": [
    "for epoch in range(num_epochs):\n",
    "    optimizer.zero_grad()\n",
    "    output = model(input_image, artist_id)\n",
    "    loss = criterion(output, input_image.view(input_image.size(0), -1))\n",
    "    loss.backward()\n",
    "    optimizer.step()\n",
    "    print(f'Epoch: {epoch+1}, Loss: {loss.item()}')"
   ]
  },
  {
   "cell_type": "code",
   "execution_count": null,
   "metadata": {},
   "outputs": [],
   "source": [
    "# Generate a sample output image and list of contributing artist IDs\n",
    "output_image = model(input_image, artist_id)\n",
    "contributing_artists = [artist_id]\n",
    "\n",
    "# Print it\n",
    "print(output_image)\n",
    "print(contributing_artists)"
   ]
  }
 ],
 "metadata": {
  "kernelspec": {
   "display_name": ".venv",
   "language": "python",
   "name": "python3"
  },
  "language_info": {
   "codemirror_mode": {
    "name": "ipython",
    "version": 3
   },
   "file_extension": ".py",
   "mimetype": "text/x-python",
   "name": "python",
   "nbconvert_exporter": "python",
   "pygments_lexer": "ipython3",
   "version": "3.10.8"
  },
  "orig_nbformat": 4
 },
 "nbformat": 4,
 "nbformat_minor": 2
}
